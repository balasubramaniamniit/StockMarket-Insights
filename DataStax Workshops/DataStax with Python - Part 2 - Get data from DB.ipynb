{
 "cells": [
  {
   "cell_type": "code",
   "execution_count": null,
   "id": "2c5dc9e2",
   "metadata": {},
   "outputs": [],
   "source": [
    "def get_data_from_db(db_table_name):\n",
    "    session = getDBSession()\n",
    "    select_query = session.prepare(f\"SELECT * FROM  {db_table_name}\")\n",
    "    data = session.execute(select_query)\n",
    "    list = data.all()\n",
    "    df = (pd.DataFrame(list))\n",
    "    return  df\n"
   ]
  }
 ],
 "metadata": {
  "hide_input": false,
  "kernelspec": {
   "display_name": "Python 3 (ipykernel)",
   "language": "python",
   "name": "python3"
  },
  "language_info": {
   "codemirror_mode": {
    "name": "ipython",
    "version": 3
   },
   "file_extension": ".py",
   "mimetype": "text/x-python",
   "name": "python",
   "nbconvert_exporter": "python",
   "pygments_lexer": "ipython3",
   "version": "3.8.10"
  }
 },
 "nbformat": 4,
 "nbformat_minor": 5
}
