{
 "cells": [
  {
   "cell_type": "code",
   "execution_count": null,
   "id": "39e7e300",
   "metadata": {},
   "outputs": [],
   "source": []
  },
  {
   "cell_type": "markdown",
   "id": "2dc18ad2",
   "metadata": {},
   "source": [
    "# Get DB Session"
   ]
  },
  {
   "cell_type": "code",
   "execution_count": null,
   "id": "824d3a54",
   "metadata": {},
   "outputs": [],
   "source": [
    "def getDBSession():\n",
    "    \"\"\"Create and get a Cassandra session\"\"\"\n",
    "    cloud_config= {\n",
    "            'secure_connect_bundle': 'socialmediadata/secure-connect-socialmediadata.zip'\n",
    "    }\n",
    "    \n",
    "    auth_provider = PlainTextAuthProvider('',\n",
    "                                          \",\")\n",
    "    cluster = Cluster(cloud=cloud_config, auth_provider=auth_provider)\n",
    "    session = cluster.connect()\n",
    "    return session"
   ]
  },
  {
   "cell_type": "code",
   "execution_count": null,
   "id": "ed5e77ca",
   "metadata": {},
   "outputs": [],
   "source": [
    "\n",
    "        \n",
    "def insert_dataframe_db(df,db_table_name,stock_tweets=False,stock_news = False,stock_semantic=False,stock_named_entities = False,ticker_tweets=False,ticker_news= False):\n",
    "    \"\"\"The main routine.\"\"\"\n",
    "\n",
    "    column_names = list(df.columns.values)\n",
    "    col_names = ','.join(map(str, column_names))\n",
    "    session = getDBSession()\n",
    "    val_insert = \"?,\" * (len(column_names)-1)\n",
    "    #print(column_names)\n",
    "    #print(db_table_name)\n",
    "\n",
    "    query = f\"INSERT INTO {db_table_name} ({col_names}) VALUES ({val_insert+'?'})\"\n",
    "    #print(query)\n",
    "    #query = \"INSERT INTO cassandra_pythondemo.twitterdata3(id ,datehour,user,text,url) VALUES (?,?,?,?,?)\"\n",
    "    prepared = session.prepare(str(query))\n",
    "\n",
    "\n",
    "    for indx, item in df.iterrows():\n",
    "        if indx%20 == 0:\n",
    "            print(f\"Inserted {indx} records out of {len(df)}\" )\n",
    "        #print(item)\n",
    "        try:\n",
    "            #print(item.ID, item.date_hour, item.USER, item.text, item.URL)\n",
    "            if stock_tweets:\n",
    "                session.execute(prepared, (item.ID, item.date_hour, item.USER, item.text, item.URL,item.sentiment_score,item.sentiment))\n",
    "            if stock_news:\n",
    "                session.execute(prepared, ( item.Date , item.Title , item.Source , item.Link,item.text,item.id, item.sentiment_score, item.sentiment,item.summary))\n",
    "            if stock_named_entities:\n",
    "                session.execute(prepared, ( str(item.id),item.count, item.Label,item.source,item.Text))\n",
    "            if stock_semantic:\n",
    "                session.execute(prepared, (str(item.id) , item.date ,item.text, item.sentiment_score , item.link , item.Source ))    \n",
    "            if ticker_tweets:\n",
    "                session.execute(prepared, (item.ID, item.date_hour, item.USER, item.text, item.URL,item.sentiment_score,item.sentiment,item.ticker))   \n",
    "            if ticker_news:\n",
    "                session.execute(prepared, (item.Date, item.Title, item.Link, item.text, item.id, item.sentiment_score, item.sentiment,\n",
    "                        item.summary,item.ticker))\n",
    "\n",
    "        except Exception as e:\n",
    "            print(e)\n",
    "            break\n",
    "\n",
    "    print(\"Inserted Data to DB\")"
   ]
  },
  {
   "cell_type": "code",
   "execution_count": null,
   "id": "0c609c8f",
   "metadata": {},
   "outputs": [],
   "source": []
  },
  {
   "cell_type": "code",
   "execution_count": null,
   "id": "bcf0c9ba",
   "metadata": {},
   "outputs": [],
   "source": []
  }
 ],
 "metadata": {
  "hide_input": false,
  "kernelspec": {
   "display_name": "Python 3 (ipykernel)",
   "language": "python",
   "name": "python3"
  },
  "language_info": {
   "codemirror_mode": {
    "name": "ipython",
    "version": 3
   },
   "file_extension": ".py",
   "mimetype": "text/x-python",
   "name": "python",
   "nbconvert_exporter": "python",
   "pygments_lexer": "ipython3",
   "version": "3.8.10"
  }
 },
 "nbformat": 4,
 "nbformat_minor": 5
}
